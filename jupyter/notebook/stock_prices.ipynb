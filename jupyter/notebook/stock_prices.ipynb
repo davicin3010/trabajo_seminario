{
 "cells": [
  {
   "cell_type": "code",
   "execution_count": 1,
   "metadata": {},
   "outputs": [],
   "source": [
    "import findspark\n",
    "\n",
    "findspark.add_jars('/app/postgresql-42.1.4.jar')\n",
    "findspark.init()"
   ]
  },
  {
   "cell_type": "code",
   "execution_count": 2,
   "metadata": {},
   "outputs": [],
   "source": [
    "from pyspark.sql import functions as F, SparkSession\n",
    "import pandas as pd"
   ]
  },
  {
   "cell_type": "code",
   "execution_count": 3,
   "metadata": {},
   "outputs": [],
   "source": [
    "from pyspark.sql import SparkSession\n",
    "spark = (\n",
    "    SparkSession.builder\n",
    "    .appName(\"pyspark-postgres\")\n",
    "    .config(\"spark.driver.memory\", \"512m\")\n",
    "    .config(\"spark.driver.cores\", \"1\")\n",
    "    .config(\"spark.executor.memory\", \"512m\")\n",
    "    .config(\"spark.executor.cores\", \"1\")\n",
    "    .config(\"spark.sql.shuffle.partitions\", \"2\")\n",
    "    .getOrCreate()\n",
    ")"
   ]
  },
  {
   "cell_type": "code",
   "execution_count": 4,
   "metadata": {},
   "outputs": [
    {
     "data": {
      "text/plain": [
       "'2.4.5'"
      ]
     },
     "execution_count": 4,
     "metadata": {},
     "output_type": "execute_result"
    }
   ],
   "source": [
    "spark.version"
   ]
  },
  {
   "cell_type": "code",
   "execution_count": 5,
   "metadata": {},
   "outputs": [],
   "source": [
    "file_path = '/data/stock/stock_prices.csv'"
   ]
  },
  {
   "cell_type": "code",
   "execution_count": 6,
   "metadata": {},
   "outputs": [],
   "source": [
    "df_stocks = spark.read.csv(path=file_path, inferSchema=True, header=True)"
   ]
  },
  {
   "cell_type": "code",
   "execution_count": 7,
   "metadata": {},
   "outputs": [
    {
     "data": {
      "text/plain": [
       "497472"
      ]
     },
     "execution_count": 7,
     "metadata": {},
     "output_type": "execute_result"
    }
   ],
   "source": [
    "df_stocks.count()"
   ]
  },
  {
   "cell_type": "code",
   "execution_count": 8,
   "metadata": {},
   "outputs": [
    {
     "name": "stdout",
     "output_type": "stream",
     "text": [
      "root\n",
      " |-- symbol: string (nullable = true)\n",
      " |-- date: timestamp (nullable = true)\n",
      " |-- open: double (nullable = true)\n",
      " |-- high: double (nullable = true)\n",
      " |-- low: double (nullable = true)\n",
      " |-- close: double (nullable = true)\n",
      " |-- volume: integer (nullable = true)\n",
      "\n"
     ]
    }
   ],
   "source": [
    "df_stocks.printSchema()"
   ]
  },
  {
   "cell_type": "code",
   "execution_count": 9,
   "metadata": {},
   "outputs": [
    {
     "name": "stdout",
     "output_type": "stream",
     "text": [
      "+------+-------------------+-------+-------+--------+-------+--------+\n",
      "|symbol|               date|   open|   high|     low|  close|  volume|\n",
      "+------+-------------------+-------+-------+--------+-------+--------+\n",
      "|   AAL|2014-01-02 00:00:00|  25.07|  25.82|   25.06|  25.36| 8998943|\n",
      "|  AAPL|2014-01-02 00:00:00|79.3828|79.5756| 78.8601|79.0185|58791957|\n",
      "|   AAP|2014-01-02 00:00:00| 110.36| 111.88|  109.29| 109.74|  542711|\n",
      "|  ABBV|2014-01-02 00:00:00|  52.12|  52.33|   51.52|  51.98| 4569061|\n",
      "|   ABC|2014-01-02 00:00:00|  70.11|  70.23|   69.48|  69.89| 1148391|\n",
      "|   ABT|2014-01-02 00:00:00|  38.09|   38.4|    38.0|  38.23| 4967472|\n",
      "|   ACN|2014-01-02 00:00:00|   81.5|  81.92|   81.09|  81.13| 2405384|\n",
      "|  ADBE|2014-01-02 00:00:00|  59.06|  59.53|   58.94|  59.29| 2746370|\n",
      "|   ADI|2014-01-02 00:00:00|  49.52|  49.75|   49.04|  49.28| 2799092|\n",
      "|   ADM|2014-01-02 00:00:00|  43.22|  43.29|   42.79|  42.99| 2753765|\n",
      "|   ADP|2014-01-02 00:00:00|  80.17|  80.45|   79.38|  79.86| 1965869|\n",
      "|  ADSK|2014-01-02 00:00:00|  49.33|  49.74|   48.88|  49.25| 2488043|\n",
      "|   ADS|2014-01-02 00:00:00| 262.44| 262.68|  258.78| 262.34|  547808|\n",
      "|   AEE|2014-01-02 00:00:00|  36.05|  36.11|   35.47|  35.53| 1394264|\n",
      "|   AEP|2014-01-02 00:00:00|  46.98|  47.06|   46.04|  46.13| 2752002|\n",
      "|   AES|2014-01-02 00:00:00|  14.51|  14.56|   14.19|  14.27| 3987216|\n",
      "|   AET|2014-01-02 00:00:00|  68.21|   68.6|   67.52|  67.56| 1650687|\n",
      "|   AFL|2014-01-02 00:00:00|  66.63| 66.694|   65.81|  65.96| 1914657|\n",
      "|   AGN|2014-01-02 00:00:00| 167.33| 170.71|166.5937| 168.05| 1268722|\n",
      "|   AIG|2014-01-02 00:00:00|  50.81|   51.3|   50.47|  50.71| 9198092|\n",
      "+------+-------------------+-------+-------+--------+-------+--------+\n",
      "only showing top 20 rows\n",
      "\n"
     ]
    }
   ],
   "source": [
    "df_stocks.show()"
   ]
  },
  {
   "cell_type": "code",
   "execution_count": 10,
   "metadata": {},
   "outputs": [],
   "source": [
    "file_path = '/data/stock/yahoo-symbols-201709.csv'"
   ]
  },
  {
   "cell_type": "code",
   "execution_count": 11,
   "metadata": {},
   "outputs": [],
   "source": [
    "df_lookup = spark.read.csv(path=file_path, inferSchema=True, header=True)\\\n",
    "                            .withColumnRenamed('Ticker', 'symbol')\\\n",
    "                            .withColumnRenamed('Name', 'name')\\\n",
    "                            .withColumnRenamed('Exchange', 'exchange')\\\n",
    "                            .withColumnRenamed('Category Name', 'category')\\\n",
    "                            .withColumnRenamed('Country', 'country')"
   ]
  },
  {
   "cell_type": "code",
   "execution_count": 12,
   "metadata": {},
   "outputs": [
    {
     "data": {
      "text/plain": [
       "106328"
      ]
     },
     "execution_count": 12,
     "metadata": {},
     "output_type": "execute_result"
    }
   ],
   "source": [
    "df_lookup.count()"
   ]
  },
  {
   "cell_type": "code",
   "execution_count": 13,
   "metadata": {},
   "outputs": [
    {
     "name": "stdout",
     "output_type": "stream",
     "text": [
      "root\n",
      " |-- symbol: string (nullable = true)\n",
      " |-- name: string (nullable = true)\n",
      " |-- exchange: string (nullable = true)\n",
      " |-- category: string (nullable = true)\n",
      " |-- country: string (nullable = true)\n",
      "\n"
     ]
    }
   ],
   "source": [
    "df_lookup.printSchema()"
   ]
  },
  {
   "cell_type": "code",
   "execution_count": 14,
   "metadata": {},
   "outputs": [
    {
     "name": "stdout",
     "output_type": "stream",
     "text": [
      "+------+--------------------+--------+--------------------+-------+\n",
      "|symbol|                name|exchange|            category|country|\n",
      "+------+--------------------+--------+--------------------+-------+\n",
      "|  OEDV|Osage Exploration...|     PNK|                null|    USA|\n",
      "|  AAPL|          Apple Inc.|     NMS|Electronic Equipment|    USA|\n",
      "|   BAC|Bank of America C...|     NYQ|  Money Center Banks|    USA|\n",
      "|  AMZN|    Amazon.com, Inc.|     NMS|Catalog & Mail Or...|    USA|\n",
      "|     T|           AT&T Inc.|     NYQ|Telecom Services ...|    USA|\n",
      "|  GOOG|       Alphabet Inc.|     NMS|Internet Informat...|    USA|\n",
      "|    MO|  Altria Group, Inc.|     NYQ|          Cigarettes|    USA|\n",
      "|   DAL|Delta Air Lines, ...|     NYQ|      Major Airlines|    USA|\n",
      "|    AA|   Alcoa Corporation|     NYQ|            Aluminum|    USA|\n",
      "|   AXP|American Express ...|     NYQ|     Credit Services|    USA|\n",
      "|    DD|E. I. du Pont de ...|     NYQ|Agricultural Chem...|    USA|\n",
      "|  BABA|Alibaba Group Hol...|     NYQ|Specialty Retail,...|    USA|\n",
      "|   ABT| Abbott Laboratories|     NYQ|Medical Appliance...|    USA|\n",
      "|    UA|  Under Armour, Inc.|     NYQ|Textile - Apparel...|    USA|\n",
      "|  AMAT|Applied Materials...|     NMS|Semiconductor Equ...|    USA|\n",
      "|  AMGN|          Amgen Inc.|     NMS|       Biotechnology|    USA|\n",
      "|   AAL|American Airlines...|     NMS|      Major Airlines|    USA|\n",
      "|   AIG|American Internat...|     NYQ|Property & Casual...|    USA|\n",
      "|   ALL|The Allstate Corp...|     NYQ|Property & Casual...|    USA|\n",
      "|  ADBE|Adobe Systems Inc...|     NMS|Application Software|    USA|\n",
      "+------+--------------------+--------+--------------------+-------+\n",
      "only showing top 20 rows\n",
      "\n"
     ]
    }
   ],
   "source": [
    "df_lookup.show()"
   ]
  },
  {
   "cell_type": "code",
   "execution_count": 15,
   "metadata": {},
   "outputs": [
    {
     "name": "stdout",
     "output_type": "stream",
     "text": [
      "+--------------+-----+\n",
      "|       country|count|\n",
      "+--------------+-----+\n",
      "|           USA|22169|\n",
      "|       Germany|21365|\n",
      "|        France|11176|\n",
      "|         India| 8984|\n",
      "|        Canada| 4145|\n",
      "|United Kingdom| 4102|\n",
      "|        Taiwan| 2700|\n",
      "|     Australia| 2146|\n",
      "|        Brazil| 2109|\n",
      "|     Hong Kong| 1949|\n",
      "|   South Korea| 1720|\n",
      "|      Malaysia| 1654|\n",
      "|      Thailand| 1349|\n",
      "|         China| 1236|\n",
      "|     Singapore|  978|\n",
      "|        Sweden|  898|\n",
      "|   Switzerland|  845|\n",
      "|        Mexico|  767|\n",
      "|     Indonesia|  538|\n",
      "|         Italy|  521|\n",
      "+--------------+-----+\n",
      "only showing top 20 rows\n",
      "\n"
     ]
    }
   ],
   "source": [
    "df_countries = df_lookup.groupby('country').count()\n",
    "df_countries = df_countries.orderBy(df_countries['count'].desc()).na.drop()\n",
    "df_countries.show()"
   ]
  },
  {
   "cell_type": "code",
   "execution_count": 16,
   "metadata": {},
   "outputs": [
    {
     "name": "stdout",
     "output_type": "stream",
     "text": [
      "+--------+-----+\n",
      "|exchange|count|\n",
      "+--------+-----+\n",
      "|     FRA|10087|\n",
      "|     BER| 6968|\n",
      "|     BSE| 6087|\n",
      "|     STU| 5444|\n",
      "|     MUN| 4213|\n",
      "|     LSE| 3944|\n",
      "|     NYQ| 3384|\n",
      "|     NSI| 2897|\n",
      "|     DUS| 2254|\n",
      "|     VAN| 2226|\n",
      "|     ASX| 2146|\n",
      "|     SAO| 2109|\n",
      "|     TWO| 2031|\n",
      "|     HKG| 1949|\n",
      "|     NMS| 1783|\n",
      "|     TOR| 1663|\n",
      "|     KLS| 1654|\n",
      "|     SET| 1349|\n",
      "|     SHH| 1231|\n",
      "|     HAM| 1032|\n",
      "+--------+-----+\n",
      "only showing top 20 rows\n",
      "\n"
     ]
    }
   ],
   "source": [
    "df_exchange = df_lookup.groupby('exchange').count()\n",
    "df_exchange = df_exchange.orderBy(df_exchange['count'].desc()).na.drop()\n",
    "df_exchange = df_exchange.filter(df_exchange['exchange'] != 'PNK')\n",
    "df_exchange.show()"
   ]
  },
  {
   "cell_type": "code",
   "execution_count": 17,
   "metadata": {},
   "outputs": [],
   "source": [
    "df_joined = df_stocks \\\n",
    "    .withColumn(\"year\", F.year(\"date\")) \\\n",
    "    .withColumn(\"month\", F.month(\"date\")) \\\n",
    "    .withColumn(\"day\", F.dayofmonth(\"date\")) \\\n",
    "    .join(df_lookup, [\"symbol\"]) \\\n",
    "    .drop('category', 'country')"
   ]
  },
  {
   "cell_type": "code",
   "execution_count": 18,
   "metadata": {},
   "outputs": [
    {
     "name": "stdout",
     "output_type": "stream",
     "text": [
      "+------+-------------------+-------+-------+--------+-------+--------+----+-----+---+--------------------+--------+\n",
      "|symbol|               date|   open|   high|     low|  close|  volume|year|month|day|                name|exchange|\n",
      "+------+-------------------+-------+-------+--------+-------+--------+----+-----+---+--------------------+--------+\n",
      "|   AAL|2014-01-02 00:00:00|  25.07|  25.82|   25.06|  25.36| 8998943|2014|    1|  2|American Airlines...|     NMS|\n",
      "|  AAPL|2014-01-02 00:00:00|79.3828|79.5756| 78.8601|79.0185|58791957|2014|    1|  2|          Apple Inc.|     NMS|\n",
      "|   AAP|2014-01-02 00:00:00| 110.36| 111.88|  109.29| 109.74|  542711|2014|    1|  2|Advance Auto Part...|     NYQ|\n",
      "|  ABBV|2014-01-02 00:00:00|  52.12|  52.33|   51.52|  51.98| 4569061|2014|    1|  2|         AbbVie Inc.|     NYQ|\n",
      "|   ABC|2014-01-02 00:00:00|  70.11|  70.23|   69.48|  69.89| 1148391|2014|    1|  2|AmerisourceBergen...|     NYQ|\n",
      "|   ABT|2014-01-02 00:00:00|  38.09|   38.4|    38.0|  38.23| 4967472|2014|    1|  2| Abbott Laboratories|     NYQ|\n",
      "|   ACN|2014-01-02 00:00:00|   81.5|  81.92|   81.09|  81.13| 2405384|2014|    1|  2|       Accenture plc|     NYQ|\n",
      "|  ADBE|2014-01-02 00:00:00|  59.06|  59.53|   58.94|  59.29| 2746370|2014|    1|  2|Adobe Systems Inc...|     NMS|\n",
      "|   ADI|2014-01-02 00:00:00|  49.52|  49.75|   49.04|  49.28| 2799092|2014|    1|  2|Analog Devices, Inc.|     NMS|\n",
      "|   ADM|2014-01-02 00:00:00|  43.22|  43.29|   42.79|  42.99| 2753765|2014|    1|  2|Archer-Daniels-Mi...|     NYQ|\n",
      "|   ADP|2014-01-02 00:00:00|  80.17|  80.45|   79.38|  79.86| 1965869|2014|    1|  2|Automatic Data Pr...|     NMS|\n",
      "|  ADSK|2014-01-02 00:00:00|  49.33|  49.74|   48.88|  49.25| 2488043|2014|    1|  2|      Autodesk, Inc.|     NMS|\n",
      "|   ADS|2014-01-02 00:00:00| 262.44| 262.68|  258.78| 262.34|  547808|2014|    1|  2|Alliance Data Sys...|     NYQ|\n",
      "|   AEE|2014-01-02 00:00:00|  36.05|  36.11|   35.47|  35.53| 1394264|2014|    1|  2|  Ameren Corporation|     NYQ|\n",
      "|   AEP|2014-01-02 00:00:00|  46.98|  47.06|   46.04|  46.13| 2752002|2014|    1|  2|American Electric...|     NYQ|\n",
      "|   AES|2014-01-02 00:00:00|  14.51|  14.56|   14.19|  14.27| 3987216|2014|    1|  2| The AES Corporation|     NYQ|\n",
      "|   AET|2014-01-02 00:00:00|  68.21|   68.6|   67.52|  67.56| 1650687|2014|    1|  2|          Aetna Inc.|     NYQ|\n",
      "|   AFL|2014-01-02 00:00:00|  66.63| 66.694|   65.81|  65.96| 1914657|2014|    1|  2|  Aflac Incorporated|     NYQ|\n",
      "|   AGN|2014-01-02 00:00:00| 167.33| 170.71|166.5937| 168.05| 1268722|2014|    1|  2|        Allergan plc|     NYQ|\n",
      "|   AIG|2014-01-02 00:00:00|  50.81|   51.3|   50.47|  50.71| 9198092|2014|    1|  2|American Internat...|     NYQ|\n",
      "+------+-------------------+-------+-------+--------+-------+--------+----+-----+---+--------------------+--------+\n",
      "only showing top 20 rows\n",
      "\n"
     ]
    }
   ],
   "source": [
    "df_joined.show()"
   ]
  },
  {
   "cell_type": "code",
   "execution_count": 34,
   "metadata": {
    "scrolled": true
   },
   "outputs": [
    {
     "name": "stdout",
     "output_type": "stream",
     "text": [
      "+------+-------------------+--------+--------+--------+--------+---------+----+-----+---+-------------+--------+\n",
      "|symbol|               date|    open|    high|     low|   close|   volume|year|month|day|         name|exchange|\n",
      "+------+-------------------+--------+--------+--------+--------+---------+----+-----+---+-------------+--------+\n",
      "|  AAPL|2014-01-02 00:00:00| 79.3828| 79.5756| 78.8601| 79.0185| 58791957|2014|    1|  2|   Apple Inc.|     NMS|\n",
      "| GOOGL|2014-01-02 00:00:00|558.2877|559.4339|554.6842|557.1166|  3641796|2014|    1|  2|Alphabet Inc.|     NMS|\n",
      "|   PFE|2014-01-02 00:00:00|   30.47|    30.6|   30.33|   30.46| 17438787|2014|    1|  2|  Pfizer Inc.|     NYQ|\n",
      "|  AAPL|2014-01-03 00:00:00| 78.9799| 79.0999| 77.2042| 77.2828| 98303870|2014|    1|  3|   Apple Inc.|     NMS|\n",
      "| GOOGL|2014-01-03 00:00:00|558.0575|559.0235|553.0175|553.0525|  3335123|2014|    1|  3|Alphabet Inc.|     NMS|\n",
      "|   PFE|2014-01-03 00:00:00|   30.39|   30.83|   30.38|   30.52| 15036749|2014|    1|  3|  Pfizer Inc.|     NYQ|\n",
      "|  AAPL|2014-01-06 00:00:00| 76.7785| 78.1142| 76.2285| 77.7042|103359151|2014|    1|  6|   Apple Inc.|     NMS|\n",
      "| GOOGL|2014-01-06 00:00:00|557.0615|559.9894|553.7732|559.2187|  3538026|2014|    1|  6|Alphabet Inc.|     NMS|\n",
      "|   PFE|2014-01-06 00:00:00|   30.77|   30.95|   30.53|   30.55| 23963087|2014|    1|  6|  Pfizer Inc.|     NYQ|\n",
      "|  AAPL|2014-01-07 00:00:00| 77.7599| 77.9942| 76.8464| 77.1481| 79432766|2014|    1|  7|   Apple Inc.|     NMS|\n",
      "| GOOGL|2014-01-07 00:00:00|563.0625|570.4148|561.1406|569.9982|  5102895|2014|    1|  7|Alphabet Inc.|     NMS|\n",
      "|   PFE|2014-01-07 00:00:00|   30.86|   31.02|   30.74|   30.74| 22233771|2014|    1|  7|  Pfizer Inc.|     NYQ|\n",
      "|  AAPL|2014-01-08 00:00:00| 76.9728| 77.9371| 76.9556| 77.6371| 64686685|2014|    1|  8|   Apple Inc.|     NMS|\n",
      "| GOOGL|2014-01-08 00:00:00| 573.573|574.2337|567.2116|571.1856|  4482406|2014|    1|  8|Alphabet Inc.|     NMS|\n",
      "|   PFE|2014-01-08 00:00:00|   30.78|  30.985|   30.65|   30.95| 22925752|2014|    1|  8|  Pfizer Inc.|     NYQ|\n",
      "|  AAPL|2014-01-09 00:00:00| 78.1142| 78.1228| 76.4785| 76.6455| 69905199|2014|    1|  9|   Apple Inc.|     NMS|\n",
      "| GOOGL|2014-01-09 00:00:00|572.2917|572.6821|563.3428|565.6851|  4166963|2014|    1|  9|Alphabet Inc.|     NMS|\n",
      "|   PFE|2014-01-09 00:00:00|   31.08|   31.12|  30.605|   30.93| 20581507|2014|    1|  9|  Pfizer Inc.|     NYQ|\n",
      "|  AAPL|2014-01-10 00:00:00| 77.1185| 77.2571| 75.8728| 76.1342| 76320664|2014|    1| 10|   Apple Inc.|     NMS|\n",
      "| GOOGL|2014-01-10 00:00:00|570.1095|570.1095|561.6861|565.6551|  4286833|2014|    1| 10|Alphabet Inc.|     NMS|\n",
      "+------+-------------------+--------+--------+--------+--------+---------+----+-----+---+-------------+--------+\n",
      "only showing top 20 rows\n",
      "\n"
     ]
    }
   ],
   "source": [
    "df_joined_nms = df_joined[df_joined['symbol'].isin(['AAPL', 'GOOGL', 'PFE'])]\n",
    "df_joined_nms.show()"
   ]
  },
  {
   "cell_type": "code",
   "execution_count": 30,
   "metadata": {},
   "outputs": [],
   "source": [
    "df_joined_nms = df_joined_nms.dropna()\n",
    "df_joined_nms = df_joined_nms.drop_duplicates()"
   ]
  },
  {
   "cell_type": "code",
   "execution_count": 31,
   "metadata": {},
   "outputs": [],
   "source": [
    "output_dir = '/data/output.parquet'"
   ]
  },
  {
   "cell_type": "code",
   "execution_count": 32,
   "metadata": {},
   "outputs": [],
   "source": [
    "df_joined_nms \\\n",
    "    .write \\\n",
    "    .mode('overwrite') \\\n",
    "    .partitionBy(\"year\", \"month\", \"day\") \\\n",
    "    .parquet(output_dir)"
   ]
  },
  {
   "cell_type": "code",
   "execution_count": 25,
   "metadata": {},
   "outputs": [
    {
     "name": "stdout",
     "output_type": "stream",
     "text": [
      "root\n",
      " |-- symbol: string (nullable = true)\n",
      " |-- date: timestamp (nullable = true)\n",
      " |-- open: double (nullable = true)\n",
      " |-- high: double (nullable = true)\n",
      " |-- low: double (nullable = true)\n",
      " |-- close: double (nullable = true)\n",
      " |-- volume: integer (nullable = true)\n",
      " |-- year: integer (nullable = true)\n",
      " |-- month: integer (nullable = true)\n",
      " |-- day: integer (nullable = true)\n",
      " |-- name: string (nullable = true)\n",
      " |-- exchange: string (nullable = true)\n",
      "\n"
     ]
    }
   ],
   "source": [
    "df_joined_nms.printSchema()"
   ]
  },
  {
   "cell_type": "code",
   "execution_count": 33,
   "metadata": {},
   "outputs": [],
   "source": [
    "df_joined_nms \\\n",
    "    .drop(\"year\", \"month\", \"day\", 'exchange') \\\n",
    "    .write \\\n",
    "    .format(\"jdbc\") \\\n",
    "    .option(\"url\", \"jdbc:postgresql://postgres/seminario\") \\\n",
    "    .option(\"dbtable\", \"seminario.stocks\") \\\n",
    "    .option(\"user\", \"seminario\") \\\n",
    "    .option(\"password\", \"sem1nar10\") \\\n",
    "    .option(\"driver\", \"org.postgresql.Driver\") \\\n",
    "    .mode('append') \\\n",
    "    .save()"
   ]
  },
  {
   "cell_type": "code",
   "execution_count": null,
   "metadata": {},
   "outputs": [],
   "source": []
  }
 ],
 "metadata": {
  "kernelspec": {
   "display_name": "Python 3",
   "language": "python",
   "name": "python3"
  },
  "language_info": {
   "codemirror_mode": {
    "name": "ipython",
    "version": 3
   },
   "file_extension": ".py",
   "mimetype": "text/x-python",
   "name": "python",
   "nbconvert_exporter": "python",
   "pygments_lexer": "ipython3",
   "version": "3.7.3"
  }
 },
 "nbformat": 4,
 "nbformat_minor": 4
}
